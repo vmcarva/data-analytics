{
 "cells": [
  {
   "cell_type": "markdown",
   "metadata": {},
   "source": [
    "# Project Guide\n",
    "\n",
    "1) Most of the tables were imported to MySQL by using the Import Wizard. This includes the tables:\n",
    "- Account\n",
    "- Client\n",
    "- Card\n",
    "- Disp\n",
    "- District\n",
    "- Loan\n",
    "- Order\n",
    "\n",
    "2) However, the table *Trans* can't be imported using the Import wizard so fast. This is why the code below on this Jupyter was written: to read the CSV with the trans information and to record it in a table on the Berka DB.\n",
    "\n",
    "3) Following this step, the scripts below were executed to clean, transform and translated information on the DB:\n",
    "- ../Basic Data Cleaning and Transformation.sql\n",
    "- ../Translating Categorical Values.sql\n",
    "\n",
    "4) The scripts for new table creations are the ones below:\n",
    "- ../Creating Table Balance_Account.sql\n",
    "- ../Creating Table Account_Profile.sql\n",
    "\n",
    "5) A dump of the financial database called berka was generated and can be executed with the script:\n",
    "- ../Dump DB - Financial Data Set 20190803.sql\n"
   ]
  },
  {
   "cell_type": "code",
   "execution_count": 1,
   "metadata": {},
   "outputs": [
    {
     "name": "stderr",
     "output_type": "stream",
     "text": [
      "C:\\Users\\vinic\\Anaconda3\\lib\\site-packages\\IPython\\core\\interactiveshell.py:3049: DtypeWarning: Columns (8) have mixed types. Specify dtype option on import or set low_memory=False.\n",
      "  interactivity=interactivity, compiler=compiler, result=result)\n"
     ]
    }
   ],
   "source": [
    "import pandas as pd\n",
    "import MySQLdb\n",
    "\n",
    "DATABSE_URI='mysql+mysqlconnector://{user}:{password}@{server}/{database}'.format(user='root', password='admin', server='localhost:3306', database='berka')\n",
    "\n",
    "df = pd.read_csv('trans.csv', sep=';')"
   ]
  },
  {
   "cell_type": "code",
   "execution_count": 2,
   "metadata": {},
   "outputs": [],
   "source": [
    "df.to_sql('trans', DATABSE_URI, if_exists='append', index=False)"
   ]
  }
 ],
 "metadata": {
  "kernelspec": {
   "display_name": "Python 3",
   "language": "python",
   "name": "python3"
  },
  "language_info": {
   "codemirror_mode": {
    "name": "ipython",
    "version": 3
   },
   "file_extension": ".py",
   "mimetype": "text/x-python",
   "name": "python",
   "nbconvert_exporter": "python",
   "pygments_lexer": "ipython3",
   "version": "3.7.3"
  }
 },
 "nbformat": 4,
 "nbformat_minor": 2
}
