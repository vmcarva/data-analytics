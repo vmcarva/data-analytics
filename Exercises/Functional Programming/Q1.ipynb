{
 "cells": [
  {
   "cell_type": "markdown",
   "metadata": {},
   "source": [
    "In the cell below, create a Python function that wraps your previous solution for the Bag of Words lab.\n",
    "\n",
    "Requirements:\n",
    "\n",
    "1. Your function should accept the following parameters:\n",
    "    * `docs` [REQUIRED] - array of document paths.\n",
    "    * `stop_words` [OPTIONAL] - array of stop words. The default value is an empty array.\n",
    "\n",
    "1. Your function should return a Python object that contains the following:\n",
    "    * `bag_of_words` - array of strings of normalized unique words in the corpus.\n",
    "    * `term_freq` - array of the term-frequency vectors."
   ]
  },
  {
   "cell_type": "code",
   "execution_count": 15,
   "metadata": {},
   "outputs": [],
   "source": [
    "import re \n",
    "# Import required libraries\n",
    "\n",
    "# Define function\n",
    "def get_bow_from_docs(docs, stop_words=[]):\n",
    "    \n",
    "    # In the function, first define the variables you will use such as `corpus`, `bag_of_words`, and `term_freq`.\n",
    "    \n",
    "    corpus = []\n",
    "    bag_of_words = []\n",
    "    term_freq = []\n",
    "    \n",
    "    \"\"\"\n",
    "    Loop `docs` and read the content of each doc into a string in `corpus`.\n",
    "    Remember to convert the doc content to lowercases and remove punctuation.\n",
    "    \"\"\"\n",
    "    for d in docs:\n",
    "        f = open(d,\"r\")\n",
    "        corpus.append(((f.readline().lower()).strip(\".\")))\n",
    "    \n",
    "    \n",
    "    \"\"\"\n",
    "    Loop `corpus`. Append the terms in each doc into the `bag_of_words` array. The terms in `bag_of_words` \n",
    "    should be unique which means before adding each term you need to check if it's already added to the array.\n",
    "    In addition, check if each term is in the `stop_words` array. Only append the term to `bag_of_words`\n",
    "    if it is not a stop word.\n",
    "    \"\"\"\n",
    "\n",
    "    ls = []\n",
    "    words = []\n",
    "    i = 0\n",
    "    j = 0\n",
    "\n",
    "    for i in range (len(corpus)):\n",
    "        ls.append(corpus[i].split(\" \"))\n",
    "        i+=1\n",
    "\n",
    "    for i in range(len(ls)):\n",
    "        for j in range(len(ls[i])):\n",
    "            words.append(ls[i][j])\n",
    "\n",
    "    for i in range(len(words)):\n",
    "        if (words[i] not in bag_of_words and words[i] not in stop_words):\n",
    "            bag_of_words.append(words[i])\n",
    "    \n",
    "    \n",
    "    \"\"\"\n",
    "    Loop `corpus` again. For each doc string, count the number of occurrences of each term in `bag_of_words`. \n",
    "    Create an array for each doc's term frequency and append it to `term_freq`.\n",
    "    \"\"\"\n",
    "    \n",
    "    \n",
    "  \n",
    "    \n",
    "    count = 0\n",
    "    ft = []\n",
    "\n",
    "    for i in corpus:\n",
    "        ft = []\n",
    "        for j in bag_of_words:\n",
    "            if j in i.split(\" \"):\n",
    "                ft.append(1)\n",
    "            else: \n",
    "                ft.append(0)\n",
    "        term_freq.append(ft)\n",
    "\n",
    "    \n",
    "    \n",
    "    # Now return your output as an object\n",
    "    \n",
    "    \n",
    "    return {\n",
    "        \"bag_of_words\": bag_of_words,\n",
    "        \"term_freq\": term_freq\n",
    "    }\n",
    "    \"\"\"\n",
    "    return bag_of_words\n",
    "    \"\"\""
   ]
  },
  {
   "cell_type": "markdown",
   "metadata": {},
   "source": [
    "Test your function without stop words. You should see the output like below:\n",
    "\n",
    "```{'bag_of_words': ['ironhack', 'is', 'cool', 'i', 'love', 'am', 'a', 'student', 'at'], 'term_freq': [[1, 1, 1, 0, 0, 0, 0, 0, 0], [1, 0, 0, 1, 1, 0, 0, 0, 0], [1, 0, 0, 1, 0, 1, 1, 1, 1]]}```"
   ]
  },
  {
   "cell_type": "code",
   "execution_count": 16,
   "metadata": {},
   "outputs": [
    {
     "name": "stdout",
     "output_type": "stream",
     "text": [
      "{'bag_of_words': ['ironhack', 'is', 'cool', 'i', 'love', 'am', 'a', 'student', 'at'], 'term_freq': [[1, 1, 1, 0, 0, 0, 0, 0, 0], [1, 0, 0, 1, 1, 0, 0, 0, 0], [1, 0, 0, 1, 0, 1, 1, 1, 1]]}\n"
     ]
    }
   ],
   "source": [
    "# Define doc paths array\n",
    "docs = ['doc1.txt', 'doc2.txt', 'doc3.txt']\n",
    "\n",
    "# Obtain BoW from your function\n",
    "bow = get_bow_from_docs(docs)\n",
    "\n",
    "# Print BoW\n",
    "print(bow)"
   ]
  },
  {
   "cell_type": "markdown",
   "metadata": {},
   "source": [
    "If your attempt above is successful, nice work done!\n",
    "\n",
    "Now test your function again with the stop words. In the previous lab we defined the stop words in a large array. In this lab, we'll import the stop words from Scikit-Learn."
   ]
  },
  {
   "cell_type": "code",
   "execution_count": 17,
   "metadata": {},
   "outputs": [
    {
     "name": "stdout",
     "output_type": "stream",
     "text": [
      "frozenset({'bottom', 'only', 'empty', 'hereafter', 'another', 'over', 'own', 'last', 'sometime', 'twenty', 'anyone', 'serious', 'its', 'meanwhile', 'moreover', 'someone', 'she', 'three', 'each', 'latter', 'when', 'done', 'thin', 'then', 'there', 'anything', 'enough', 'always', 'anyway', 'nevertheless', 'call', 'this', 'thereby', 'thence', 'already', 'but', 'towards', 'against', 'we', 'nobody', 'name', 'either', 'whereas', 'at', 'before', 'wherever', 'has', 'less', 'onto', 'yourself', 'through', 'de', 'after', 'her', 'herein', 'toward', 'become', 'whence', 'their', 'was', 'too', 'seeming', 'more', 'not', 'by', 'below', 'ltd', 'mine', 'with', 'four', 'may', 'etc', 'every', 'together', 'nine', 'ie', 'therefore', 'made', 'became', 'detail', 'elsewhere', 'via', 'seems', 'am', 'mill', 'up', 'me', 'none', 'anywhere', 'put', 'during', 'and', 'sixty', 'his', 'down', 'see', 'mostly', 'the', 'couldnt', 'any', 'our', 'back', 'once', 'were', 'been', 'nor', 'somewhere', 'among', 'while', 'becomes', 'nowhere', 'otherwise', 'still', 'therein', 'seem', 'system', 'same', 'cant', 'who', 'himself', 'somehow', 'eight', 'have', 'can', 'co', 'everything', 'often', 'across', 'give', 'whoever', 'namely', 'to', 'top', 'amoungst', 'an', 'whenever', 'two', 'myself', 'they', 'hers', 'hundred', 'alone', 'front', 'ours', 'wherein', 'yet', 'else', 'off', 'get', 'whom', 'although', 'herself', 'being', 'well', 'whose', 'go', 'for', 'formerly', 'us', 'find', 'per', 'please', 'what', 'hasnt', 'from', 'move', 'both', 'those', 'whatever', 'thereafter', 'fifteen', 'him', 'should', 'as', 'fill', 'cannot', 'under', 'bill', 'if', 'or', 'former', 'neither', 'almost', 'because', 'others', 'must', 'my', 'noone', 'nothing', 'thick', 'indeed', 'least', 'several', 'will', 'interest', 'so', 'fire', 'rather', 'yours', 'i', 'six', 'out', 'third', 'ever', 'twelve', 'hereby', 'them', 'you', 'your', 'whither', 'though', 'thru', 'along', 'everywhere', 'un', 'it', 'becoming', 'except', 'is', 'afterwards', 'con', 'do', 'five', 'forty', 'in', 'beside', 'themselves', 'ten', 'a', 'which', 'beforehand', 'hereupon', 'however', 'amount', 'of', 'he', 'all', 'why', 'thus', 'upon', 'now', 'many', 'throughout', 'within', 'since', 'whereupon', 'part', 'seemed', 'due', 'one', 'hence', 'around', 'whereafter', 'behind', 'whether', 'yourselves', 'next', 'until', 'are', 'whereby', 'full', 'side', 'beyond', 'eg', 'further', 'everyone', 'take', 'these', 'between', 're', 'even', 'also', 'never', 'eleven', 'other', 'perhaps', 'would', 'something', 'ourselves', 'keep', 'about', 'besides', 'that', 'into', 'thereupon', 'here', 'fifty', 'cry', 'first', 'no', 'few', 'how', 'sometimes', 'had', 'be', 'some', 'anyhow', 'latterly', 'describe', 'could', 'such', 'amongst', 'itself', 'sincere', 'whole', 'most', 'without', 'inc', 'above', 'very', 'on', 'might', 'than', 'again', 'where', 'show', 'found', 'much'})\n"
     ]
    }
   ],
   "source": [
    "from sklearn.feature_extraction import stop_words\n",
    "print(stop_words.ENGLISH_STOP_WORDS)"
   ]
  },
  {
   "cell_type": "markdown",
   "metadata": {},
   "source": [
    "You should have seen a large list of words that looks like:\n",
    "\n",
    "```frozenset({'across', 'mine', 'cannot', ...})```\n",
    "\n",
    "`frozenset` is a type of Python object that is immutable. In this lab you can use it just like an array without conversion."
   ]
  },
  {
   "cell_type": "markdown",
   "metadata": {},
   "source": [
    "Next, test your function with supplying `stop_words.ENGLISH_STOP_WORDS` as the second parameter."
   ]
  },
  {
   "cell_type": "code",
   "execution_count": 20,
   "metadata": {},
   "outputs": [
    {
     "name": "stdout",
     "output_type": "stream",
     "text": [
      "{'bag_of_words': ['ironhack', 'cool', 'love', 'student'], 'term_freq': [[1, 1, 0, 0], [1, 0, 1, 0], [1, 0, 0, 1]]}\n"
     ]
    }
   ],
   "source": [
    "bow = get_bow_from_docs(docs, stop_words.ENGLISH_STOP_WORDS)\n",
    "\n",
    "print(bow)"
   ]
  },
  {
   "cell_type": "markdown",
   "metadata": {},
   "source": [
    "You should have seen:\n",
    "\n",
    "```{'bag_of_words': ['ironhack', 'cool', 'love', 'student'], 'term_freq': [[1, 1, 0, 0], [1, 0, 1, 0], [1, 0, 0, 1]]}```"
   ]
  }
 ],
 "metadata": {
  "kernelspec": {
   "display_name": "Python 3",
   "language": "python",
   "name": "python3"
  },
  "language_info": {
   "codemirror_mode": {
    "name": "ipython",
    "version": 3
   },
   "file_extension": ".py",
   "mimetype": "text/x-python",
   "name": "python",
   "nbconvert_exporter": "python",
   "pygments_lexer": "ipython3",
   "version": "3.7.3"
  }
 },
 "nbformat": 4,
 "nbformat_minor": 2
}
