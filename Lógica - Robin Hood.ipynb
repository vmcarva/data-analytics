{
 "cells": [
  {
   "cell_type": "code",
   "execution_count": 109,
   "metadata": {},
   "outputs": [
    {
     "name": "stdout",
     "output_type": "stream",
     "text": [
      "10 flechas estão no Q1\n",
      "6 flechas estão no Q2\n",
      "2 flechas estão no Q3\n",
      "2 flechas estão no Q4\n",
      "2 flechas estão entre dois quadrantes\n"
     ]
    }
   ],
   "source": [
    "tiros_q1 = []\n",
    "tiros_q2 = []\n",
    "tiros_q3 = []\n",
    "tiros_q4 = []  \n",
    "tiros_q5 = [] \n",
    "\n",
    "#Calculate how many arrows have fallen in each quadrant.\n",
    "for i in range(0,len(points)):\n",
    "    \n",
    "    x = abs(points[i][0])\n",
    "    y = abs(points[i][1])\n",
    "    max_ponto = max(x,y)\n",
    "    \n",
    "    # Teste Q1\n",
    "    if (points[i][0] > 0 and points[i][1] > 0):\n",
    "        tiros_q1.append(points[i])\n",
    "    # Teste Q2\n",
    "    if (points[i][0] < 0 and points[i][1] > 0):\n",
    "        tiros_q2.append(points[i])\n",
    "    # Teste Q3\n",
    "    if (points[i][0] < 0 and points[i][1] < 0):\n",
    "        tiros_q3.append(points[i])\n",
    "    # Teste Q4\n",
    "    if (points[i][0] > 0 and points[i][1] < 0):\n",
    "        tiros_q4.append(points[i])\n",
    "    # Two Quadrants\n",
    "    if (points[i][0] == 0 or points[i][1] == 0):\n",
    "        tiros_q5.append(points[i])\n",
    "    \n",
    "        \n",
    "print(len(tiros_q1), \"flechas estão no Q1\")\n",
    "print(len(tiros_q2), \"flechas estão no Q2\")\n",
    "print(len(tiros_q3), \"flechas estão no Q3\")\n",
    "print(len(tiros_q4), \"flechas estão no Q4\")\n",
    "print(len(tiros_q5), \"flechas estão entre dois quadrantes\")\n"
   ]
  },
  {
   "cell_type": "code",
   "execution_count": 79,
   "metadata": {},
   "outputs": [
    {
     "name": "stdout",
     "output_type": "stream",
     "text": [
      "Os seguintes pontos no alvo foram acertados duas vezes: {(4, 5), (5, 7), (-3, 2), (2, 2)}\n"
     ]
    }
   ],
   "source": [
    "#Robin Hood is famous for hitting an arrow with another arrow. Did you get it?\n",
    "\n",
    "tirosIguais = []\n",
    "\n",
    "for i1 in range(0,len(points)):    \n",
    "    for i2 in range(0,len(points)):\n",
    "        if(i1 != i2):\n",
    "            if(points[i1] == points[i2]):\n",
    "                tirosIguais.append(points[i1])\n",
    "\n",
    "alvoAcertadoDuasVezes = set(tirosIguais)\n",
    "print(\"Os seguintes pontos no alvo foram acertados duas vezes:\", alvoAcertadoDuasVezes)\n",
    "    "
   ]
  },
  {
   "cell_type": "code",
   "execution_count": 127,
   "metadata": {},
   "outputs": [
    {
     "name": "stdout",
     "output_type": "stream",
     "text": [
      "Flecha 20 precisa ser retirada na floresta.\n",
      "Flecha 21 precisa ser retirada na floresta.\n",
      "Distância da flecha mais próxima do centro: 2.0\n",
      "Flecha mais próxima do centro: 1\n",
      "Flecha mais próxima do centro: 11\n",
      "As distâncias das flechas do centro são: [6.4031242374328485, 2.0, 8.06225774829855, 3.1622776601683795, 3.605551275463989, 6.4031242374328485, 3.605551275463989, 8.602325267042627, 8.602325267042627, 2.8284271247461903, 6.4031242374328485, 2.0, 8.06225774829855, 3.1622776601683795, 3.605551275463989, 6.4031242374328485, 3.605551275463989, 8.602325267042627, 8.602325267042627, 2.8284271247461903, 12.727922061357855, 12.041594578792296]\n"
     ]
    }
   ],
   "source": [
    "import math\n",
    "\n",
    "def calculaDistancia(x,y):\n",
    "    distancia = math.sqrt((x**2) + (y**2))\n",
    "    return distancia\n",
    "\n",
    "raio = 9\n",
    "num_qua = 4\n",
    "passo_fixo = raio/num_qua\n",
    "q = [(0,passo_fixo)]\n",
    "\n",
    "for i in range(1,num_qua):\n",
    "    q.append((q[i-1][1],q[i-1][1]+passo_fixo))\n",
    "    \n",
    "points = [(4, 5), (-0, 2), (4, 7), (1, -3), (3, -2), (4, 5),\n",
    "          (3, 2), (5, 7), (-5, 7), (2, 2), (-4, 5), (0, -2),\n",
    "          (-4, 7), (-1, 3), (-3, 2), (-4, -5), (-3, 2),\n",
    "          (5, 7), (5, 7), (2, 2), (9, 9), (-8, -9)]\n",
    "x = 0\n",
    "y = 0\n",
    "lim_sup = 0\n",
    "lim_inf = 0\n",
    "tiros_c1 = []\n",
    "tiros_c2 = []\n",
    "tiros_c3 = []\n",
    "tiros_c4 = []  \n",
    "\n",
    "#Find the point closest to the center. Calculate its distance to the center.\n",
    "#If the target has a radius of 9, calculate the number of arrows that must be picked up in the forest.\n",
    "distance_shots = []\n",
    "for i in range(0,len(points)):\n",
    "    distance_shots.append(calculaDistancia(points[i][0],points[i][1])) \n",
    "    \n",
    "    if(distance_shots[i] > 9 or max(points[i][0],points[i][1]) > 9):\n",
    "        print(\"Flecha\", i, \"precisa ser retirada na floresta.\")\n",
    "\n",
    "print(\"Distância da flecha mais próxima do centro:\", min(distance_shots) )\n",
    "for i in range(0,len(distance_shots)):\n",
    "    if(distance_shots[i] == 2):\n",
    "        print(\"Flecha mais próxima do centro:\", i)\n",
    "print(\"As distâncias das flechas do centro são:\", distance_shots)\n",
    "\n",
    "\n",
    "\n",
    "\n",
    "\n",
    "    \n",
    "\n",
    "    \n",
    "\n"
   ]
  },
  {
   "cell_type": "code",
   "execution_count": 118,
   "metadata": {},
   "outputs": [
    {
     "name": "stdout",
     "output_type": "stream",
     "text": [
      "As flechas [(4, 5), (4, 7), (4, 5), (3, 2), (5, 7), (2, 2), (5, 7), (5, 7), (2, 2), (9, 9)] caíram no C1. Total: 10\n",
      "As flechas [(-5, 7), (-4, 5), (-4, 7), (-1, 3), (-3, 2), (-3, 2)] caíram no C2. Total: 6\n",
      "As flechas [(-4, -5), (-8, -9)] caíram no C3. Total: 2\n",
      "As flechas [(1, -3), (3, -2)] caíram no C4. Total: 2\n"
     ]
    }
   ],
   "source": [
    "\n",
    "#Este cálculo considera o quadrante como uma das circunferências de um alvo, onde cada circulo é mais próximo do alvo central \n",
    "#https://sc01.alicdn.com/kf/HTB1vwdYKFXXXXX5XXXXq6xXFXXXA/Target-Stickers-Adhesive-Shooting-Targets.jpg\n",
    "\n",
    "#O cálculo por quadrantes está na próxima célula\n",
    "\n",
    "#Loop feito para quatro circulo apenas e não um número configurável de circulos, \n",
    "#caso contrário seria necessário um loop dentro do outro\n",
    "\n",
    "for i in range(0,len(points)):\n",
    "    x = abs(points[i][0])\n",
    "    y = abs(points[i][1])\n",
    "    max_ponto = max(x,y)\n",
    "    \n",
    "    # Teste C1\n",
    "    if (max_ponto >= q[0][0] and max_ponto <= q[0][1]):\n",
    "        tiros_c1.append(i)\n",
    "    # Teste C2\n",
    "    elif (max_ponto >= q[1][0] and max_ponto <= q[1][1]):\n",
    "        tiros_c2.append(i)\n",
    "     # Teste C3\n",
    "    elif (max_ponto >= q[2][0] and max_ponto <= q[2][1]):\n",
    "        tiros_c3.append(i)\n",
    "     # Teste C4\n",
    "    elif (max_ponto >= q[3][0] and max_ponto <= q[3][1]):\n",
    "        tiros_c4.append(i)\n",
    "\n",
    "print(\"As flechas\", tiros_q1,\"caíram no C1. Total:\", len(tiros_q1))\n",
    "print(\"As flechas\", tiros_q2,\"caíram no C2. Total:\", len(tiros_q2))\n",
    "print(\"As flechas\", tiros_q3,\"caíram no C3. Total:\", len(tiros_q3))\n",
    "print(\"As flechas\", tiros_q4,\"caíram no C4. Total:\", len(tiros_q4))\n"
   ]
  }
 ],
 "metadata": {
  "kernelspec": {
   "display_name": "Python 3",
   "language": "python",
   "name": "python3"
  },
  "language_info": {
   "codemirror_mode": {
    "name": "ipython",
    "version": 3
   },
   "file_extension": ".py",
   "mimetype": "text/x-python",
   "name": "python",
   "nbconvert_exporter": "python",
   "pygments_lexer": "ipython3",
   "version": "3.7.3"
  }
 },
 "nbformat": 4,
 "nbformat_minor": 2
}
